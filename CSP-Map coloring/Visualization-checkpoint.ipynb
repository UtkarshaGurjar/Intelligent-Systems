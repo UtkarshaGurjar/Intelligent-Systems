{
 "cells": [
  {
   "cell_type": "code",
   "execution_count": 9,
   "metadata": {},
   "outputs": [
    {
     "name": "stdout",
     "output_type": "stream",
     "text": [
      "Select map to be colored : \n",
      "1.Australia\n",
      "2.US\n",
      "2\n",
      "\n",
      "Minimum chromatic number possible for US map =  4\n",
      "\n",
      "Search starts from state:  Alaska\n",
      "\n",
      "1.DFS Only:\n",
      "\n",
      "Number of backtracks =  55\n",
      "Colors assigned for states in original order =  ['Red', 'Green', 'Red', 'Blue', 'Yellow', 'Blue', 'Red', 'Red', 'Green', 'Yellow', 'Green', 'Green', 'Blue', 'Red', 'Blue', 'Red', 'Blue', 'Red', 'Green', 'Yellow', 'Green', 'Red', 'Blue', 'Red', 'Blue', 'Red', 'Green', 'Blue', 'Red', 'Green', 'Yellow', 'Red', 'Yellow', 'Green', 'Red', 'Blue', 'Red', 'Blue', 'Green', 'Red', 'Green', 'Yellow', 'Blue', 'Red', 'Green', 'Red', 'Blue', 'Red', 'Blue', 'Red']\n",
      "Time taken 0.0009240000000012571 s\n",
      "\n",
      "2.DFS with Forward Check:\n",
      "\n",
      "Number of backtracks =  0\n",
      "Colors assigned for states in original order =  ['Red', 'Green', 'Blue', 'Blue', 'Red', 'Green', 'Yellow', 'Red', 'Green', 'Blue', 'Red', 'Blue', 'Yellow', 'Red', 'Green', 'Yellow', 'Blue', 'Red', 'Green', 'Blue', 'Red', 'Green', 'Blue', 'Yellow', 'Blue', 'Red', 'Green', 'Red', 'Green', 'Red', 'Blue', 'Yellow', 'Blue', 'Red', 'Green', 'Blue', 'Green', 'Red', 'Green', 'Blue', 'Green', 'Blue', 'Red', 'Red', 'Green', 'Yellow', 'Red', 'Blue', 'Red', 'Red']\n",
      "Time taken 0.0005020000000008906 s\n",
      "\n",
      "3.DFS with Forward Check and propagation through Singleton domains:\n",
      "\n",
      "Number of backtracks =  27\n",
      "Colors assigned for states in original order =  ['Yellow', 'Green', 'Red', 'Blue', 'Yellow', 'Blue', 'Red', 'Red', 'Green', 'Green', 'Yellow', 'Blue', 'Yellow', 'Red', 'Yellow', 'Red', 'Blue', 'Red', 'Green', 'Blue', 'Yellow', 'Red', 'Blue', 'Red', 'Blue', 'Red', 'Yellow', 'Red', 'Red', 'Yellow', 'Blue', 'Yellow', 'Blue', 'Yellow', 'Red', 'Blue', 'Green', 'Red', 'Green', 'Blue', 'Green', 'Blue', 'Red', 'Red', 'Yellow', 'Yellow', 'Red', 'Blue', 'Red', 'Red']\n",
      "Time taken 0.0008859999999994983 s\n",
      "\n"
     ]
    },
    {
     "data": {
      "application/vnd.plotly.v1+json": {
       "config": {
        "plotlyServerURL": "https://plot.ly"
       },
       "data": [
        {
         "colorscale": [
          [
           0,
           "Red"
          ],
          [
           0.3333333333333333,
           "Blue"
          ],
          [
           0.6666666666666666,
           "Green"
          ],
          [
           1,
           "Yellow"
          ]
         ],
         "locationmode": "USA-states",
         "locations": [
          "WA",
          "OR",
          "CA",
          "ID",
          "NV",
          "AZ",
          "UT",
          "MT",
          "WY",
          "CO",
          "NM",
          "ND",
          "SD",
          "NE",
          "KS",
          "OK",
          "TX",
          "MN",
          "IA",
          "MO",
          "AR",
          "LA",
          "WI",
          "IL",
          "MS",
          "MI",
          "IN",
          "KY",
          "TN",
          "AL",
          "OH",
          "WV",
          "VA",
          "NC",
          "SC",
          "GA",
          "FL",
          "PA",
          "MD",
          "DE",
          "NJ",
          "NY",
          "CT",
          "HI",
          "MA",
          "RI",
          "VT",
          "NH",
          "ME",
          "AK"
         ],
         "type": "choropleth",
         "z": [
          4,
          3,
          1,
          2,
          4,
          2,
          1,
          1,
          3,
          3,
          4,
          2,
          4,
          1,
          4,
          1,
          2,
          1,
          3,
          2,
          4,
          1,
          2,
          1,
          2,
          1,
          4,
          1,
          1,
          4,
          2,
          4,
          2,
          4,
          1,
          2,
          3,
          1,
          3,
          2,
          3,
          2,
          1,
          1,
          4,
          4,
          1,
          2,
          1,
          1
         ]
        }
       ],
       "layout": {
        "geo": {
         "scope": "usa"
        },
        "template": {
         "data": {
          "bar": [
           {
            "error_x": {
             "color": "#2a3f5f"
            },
            "error_y": {
             "color": "#2a3f5f"
            },
            "marker": {
             "line": {
              "color": "#E5ECF6",
              "width": 0.5
             }
            },
            "type": "bar"
           }
          ],
          "barpolar": [
           {
            "marker": {
             "line": {
              "color": "#E5ECF6",
              "width": 0.5
             }
            },
            "type": "barpolar"
           }
          ],
          "carpet": [
           {
            "aaxis": {
             "endlinecolor": "#2a3f5f",
             "gridcolor": "white",
             "linecolor": "white",
             "minorgridcolor": "white",
             "startlinecolor": "#2a3f5f"
            },
            "baxis": {
             "endlinecolor": "#2a3f5f",
             "gridcolor": "white",
             "linecolor": "white",
             "minorgridcolor": "white",
             "startlinecolor": "#2a3f5f"
            },
            "type": "carpet"
           }
          ],
          "choropleth": [
           {
            "colorbar": {
             "outlinewidth": 0,
             "ticks": ""
            },
            "type": "choropleth"
           }
          ],
          "contour": [
           {
            "colorbar": {
             "outlinewidth": 0,
             "ticks": ""
            },
            "colorscale": [
             [
              0,
              "#0d0887"
             ],
             [
              0.1111111111111111,
              "#46039f"
             ],
             [
              0.2222222222222222,
              "#7201a8"
             ],
             [
              0.3333333333333333,
              "#9c179e"
             ],
             [
              0.4444444444444444,
              "#bd3786"
             ],
             [
              0.5555555555555556,
              "#d8576b"
             ],
             [
              0.6666666666666666,
              "#ed7953"
             ],
             [
              0.7777777777777778,
              "#fb9f3a"
             ],
             [
              0.8888888888888888,
              "#fdca26"
             ],
             [
              1,
              "#f0f921"
             ]
            ],
            "type": "contour"
           }
          ],
          "contourcarpet": [
           {
            "colorbar": {
             "outlinewidth": 0,
             "ticks": ""
            },
            "type": "contourcarpet"
           }
          ],
          "heatmap": [
           {
            "colorbar": {
             "outlinewidth": 0,
             "ticks": ""
            },
            "colorscale": [
             [
              0,
              "#0d0887"
             ],
             [
              0.1111111111111111,
              "#46039f"
             ],
             [
              0.2222222222222222,
              "#7201a8"
             ],
             [
              0.3333333333333333,
              "#9c179e"
             ],
             [
              0.4444444444444444,
              "#bd3786"
             ],
             [
              0.5555555555555556,
              "#d8576b"
             ],
             [
              0.6666666666666666,
              "#ed7953"
             ],
             [
              0.7777777777777778,
              "#fb9f3a"
             ],
             [
              0.8888888888888888,
              "#fdca26"
             ],
             [
              1,
              "#f0f921"
             ]
            ],
            "type": "heatmap"
           }
          ],
          "heatmapgl": [
           {
            "colorbar": {
             "outlinewidth": 0,
             "ticks": ""
            },
            "colorscale": [
             [
              0,
              "#0d0887"
             ],
             [
              0.1111111111111111,
              "#46039f"
             ],
             [
              0.2222222222222222,
              "#7201a8"
             ],
             [
              0.3333333333333333,
              "#9c179e"
             ],
             [
              0.4444444444444444,
              "#bd3786"
             ],
             [
              0.5555555555555556,
              "#d8576b"
             ],
             [
              0.6666666666666666,
              "#ed7953"
             ],
             [
              0.7777777777777778,
              "#fb9f3a"
             ],
             [
              0.8888888888888888,
              "#fdca26"
             ],
             [
              1,
              "#f0f921"
             ]
            ],
            "type": "heatmapgl"
           }
          ],
          "histogram": [
           {
            "marker": {
             "colorbar": {
              "outlinewidth": 0,
              "ticks": ""
             }
            },
            "type": "histogram"
           }
          ],
          "histogram2d": [
           {
            "colorbar": {
             "outlinewidth": 0,
             "ticks": ""
            },
            "colorscale": [
             [
              0,
              "#0d0887"
             ],
             [
              0.1111111111111111,
              "#46039f"
             ],
             [
              0.2222222222222222,
              "#7201a8"
             ],
             [
              0.3333333333333333,
              "#9c179e"
             ],
             [
              0.4444444444444444,
              "#bd3786"
             ],
             [
              0.5555555555555556,
              "#d8576b"
             ],
             [
              0.6666666666666666,
              "#ed7953"
             ],
             [
              0.7777777777777778,
              "#fb9f3a"
             ],
             [
              0.8888888888888888,
              "#fdca26"
             ],
             [
              1,
              "#f0f921"
             ]
            ],
            "type": "histogram2d"
           }
          ],
          "histogram2dcontour": [
           {
            "colorbar": {
             "outlinewidth": 0,
             "ticks": ""
            },
            "colorscale": [
             [
              0,
              "#0d0887"
             ],
             [
              0.1111111111111111,
              "#46039f"
             ],
             [
              0.2222222222222222,
              "#7201a8"
             ],
             [
              0.3333333333333333,
              "#9c179e"
             ],
             [
              0.4444444444444444,
              "#bd3786"
             ],
             [
              0.5555555555555556,
              "#d8576b"
             ],
             [
              0.6666666666666666,
              "#ed7953"
             ],
             [
              0.7777777777777778,
              "#fb9f3a"
             ],
             [
              0.8888888888888888,
              "#fdca26"
             ],
             [
              1,
              "#f0f921"
             ]
            ],
            "type": "histogram2dcontour"
           }
          ],
          "mesh3d": [
           {
            "colorbar": {
             "outlinewidth": 0,
             "ticks": ""
            },
            "type": "mesh3d"
           }
          ],
          "parcoords": [
           {
            "line": {
             "colorbar": {
              "outlinewidth": 0,
              "ticks": ""
             }
            },
            "type": "parcoords"
           }
          ],
          "pie": [
           {
            "automargin": true,
            "type": "pie"
           }
          ],
          "scatter": [
           {
            "marker": {
             "colorbar": {
              "outlinewidth": 0,
              "ticks": ""
             }
            },
            "type": "scatter"
           }
          ],
          "scatter3d": [
           {
            "line": {
             "colorbar": {
              "outlinewidth": 0,
              "ticks": ""
             }
            },
            "marker": {
             "colorbar": {
              "outlinewidth": 0,
              "ticks": ""
             }
            },
            "type": "scatter3d"
           }
          ],
          "scattercarpet": [
           {
            "marker": {
             "colorbar": {
              "outlinewidth": 0,
              "ticks": ""
             }
            },
            "type": "scattercarpet"
           }
          ],
          "scattergeo": [
           {
            "marker": {
             "colorbar": {
              "outlinewidth": 0,
              "ticks": ""
             }
            },
            "type": "scattergeo"
           }
          ],
          "scattergl": [
           {
            "marker": {
             "colorbar": {
              "outlinewidth": 0,
              "ticks": ""
             }
            },
            "type": "scattergl"
           }
          ],
          "scattermapbox": [
           {
            "marker": {
             "colorbar": {
              "outlinewidth": 0,
              "ticks": ""
             }
            },
            "type": "scattermapbox"
           }
          ],
          "scatterpolar": [
           {
            "marker": {
             "colorbar": {
              "outlinewidth": 0,
              "ticks": ""
             }
            },
            "type": "scatterpolar"
           }
          ],
          "scatterpolargl": [
           {
            "marker": {
             "colorbar": {
              "outlinewidth": 0,
              "ticks": ""
             }
            },
            "type": "scatterpolargl"
           }
          ],
          "scatterternary": [
           {
            "marker": {
             "colorbar": {
              "outlinewidth": 0,
              "ticks": ""
             }
            },
            "type": "scatterternary"
           }
          ],
          "surface": [
           {
            "colorbar": {
             "outlinewidth": 0,
             "ticks": ""
            },
            "colorscale": [
             [
              0,
              "#0d0887"
             ],
             [
              0.1111111111111111,
              "#46039f"
             ],
             [
              0.2222222222222222,
              "#7201a8"
             ],
             [
              0.3333333333333333,
              "#9c179e"
             ],
             [
              0.4444444444444444,
              "#bd3786"
             ],
             [
              0.5555555555555556,
              "#d8576b"
             ],
             [
              0.6666666666666666,
              "#ed7953"
             ],
             [
              0.7777777777777778,
              "#fb9f3a"
             ],
             [
              0.8888888888888888,
              "#fdca26"
             ],
             [
              1,
              "#f0f921"
             ]
            ],
            "type": "surface"
           }
          ],
          "table": [
           {
            "cells": {
             "fill": {
              "color": "#EBF0F8"
             },
             "line": {
              "color": "white"
             }
            },
            "header": {
             "fill": {
              "color": "#C8D4E3"
             },
             "line": {
              "color": "white"
             }
            },
            "type": "table"
           }
          ]
         },
         "layout": {
          "annotationdefaults": {
           "arrowcolor": "#2a3f5f",
           "arrowhead": 0,
           "arrowwidth": 1
          },
          "coloraxis": {
           "colorbar": {
            "outlinewidth": 0,
            "ticks": ""
           }
          },
          "colorscale": {
           "diverging": [
            [
             0,
             "#8e0152"
            ],
            [
             0.1,
             "#c51b7d"
            ],
            [
             0.2,
             "#de77ae"
            ],
            [
             0.3,
             "#f1b6da"
            ],
            [
             0.4,
             "#fde0ef"
            ],
            [
             0.5,
             "#f7f7f7"
            ],
            [
             0.6,
             "#e6f5d0"
            ],
            [
             0.7,
             "#b8e186"
            ],
            [
             0.8,
             "#7fbc41"
            ],
            [
             0.9,
             "#4d9221"
            ],
            [
             1,
             "#276419"
            ]
           ],
           "sequential": [
            [
             0,
             "#0d0887"
            ],
            [
             0.1111111111111111,
             "#46039f"
            ],
            [
             0.2222222222222222,
             "#7201a8"
            ],
            [
             0.3333333333333333,
             "#9c179e"
            ],
            [
             0.4444444444444444,
             "#bd3786"
            ],
            [
             0.5555555555555556,
             "#d8576b"
            ],
            [
             0.6666666666666666,
             "#ed7953"
            ],
            [
             0.7777777777777778,
             "#fb9f3a"
            ],
            [
             0.8888888888888888,
             "#fdca26"
            ],
            [
             1,
             "#f0f921"
            ]
           ],
           "sequentialminus": [
            [
             0,
             "#0d0887"
            ],
            [
             0.1111111111111111,
             "#46039f"
            ],
            [
             0.2222222222222222,
             "#7201a8"
            ],
            [
             0.3333333333333333,
             "#9c179e"
            ],
            [
             0.4444444444444444,
             "#bd3786"
            ],
            [
             0.5555555555555556,
             "#d8576b"
            ],
            [
             0.6666666666666666,
             "#ed7953"
            ],
            [
             0.7777777777777778,
             "#fb9f3a"
            ],
            [
             0.8888888888888888,
             "#fdca26"
            ],
            [
             1,
             "#f0f921"
            ]
           ]
          },
          "colorway": [
           "#636efa",
           "#EF553B",
           "#00cc96",
           "#ab63fa",
           "#FFA15A",
           "#19d3f3",
           "#FF6692",
           "#B6E880",
           "#FF97FF",
           "#FECB52"
          ],
          "font": {
           "color": "#2a3f5f"
          },
          "geo": {
           "bgcolor": "white",
           "lakecolor": "white",
           "landcolor": "#E5ECF6",
           "showlakes": true,
           "showland": true,
           "subunitcolor": "white"
          },
          "hoverlabel": {
           "align": "left"
          },
          "hovermode": "closest",
          "mapbox": {
           "style": "light"
          },
          "paper_bgcolor": "white",
          "plot_bgcolor": "#E5ECF6",
          "polar": {
           "angularaxis": {
            "gridcolor": "white",
            "linecolor": "white",
            "ticks": ""
           },
           "bgcolor": "#E5ECF6",
           "radialaxis": {
            "gridcolor": "white",
            "linecolor": "white",
            "ticks": ""
           }
          },
          "scene": {
           "xaxis": {
            "backgroundcolor": "#E5ECF6",
            "gridcolor": "white",
            "gridwidth": 2,
            "linecolor": "white",
            "showbackground": true,
            "ticks": "",
            "zerolinecolor": "white"
           },
           "yaxis": {
            "backgroundcolor": "#E5ECF6",
            "gridcolor": "white",
            "gridwidth": 2,
            "linecolor": "white",
            "showbackground": true,
            "ticks": "",
            "zerolinecolor": "white"
           },
           "zaxis": {
            "backgroundcolor": "#E5ECF6",
            "gridcolor": "white",
            "gridwidth": 2,
            "linecolor": "white",
            "showbackground": true,
            "ticks": "",
            "zerolinecolor": "white"
           }
          },
          "shapedefaults": {
           "line": {
            "color": "#2a3f5f"
           }
          },
          "ternary": {
           "aaxis": {
            "gridcolor": "white",
            "linecolor": "white",
            "ticks": ""
           },
           "baxis": {
            "gridcolor": "white",
            "linecolor": "white",
            "ticks": ""
           },
           "bgcolor": "#E5ECF6",
           "caxis": {
            "gridcolor": "white",
            "linecolor": "white",
            "ticks": ""
           }
          },
          "title": {
           "x": 0.05
          },
          "xaxis": {
           "automargin": true,
           "gridcolor": "white",
           "linecolor": "white",
           "ticks": "",
           "title": {
            "standoff": 15
           },
           "zerolinecolor": "white",
           "zerolinewidth": 2
          },
          "yaxis": {
           "automargin": true,
           "gridcolor": "white",
           "linecolor": "white",
           "ticks": "",
           "title": {
            "standoff": 15
           },
           "zerolinecolor": "white",
           "zerolinewidth": 2
          }
         }
        },
        "title": {
         "text": "Coloured Map"
        }
       }
      },
      "text/html": [
       "<div>\n",
       "        \n",
       "        \n",
       "            <div id=\"b0a23a29-bbad-4134-a198-b0a509780426\" class=\"plotly-graph-div\" style=\"height:525px; width:100%;\"></div>\n",
       "            <script type=\"text/javascript\">\n",
       "                require([\"plotly\"], function(Plotly) {\n",
       "                    window.PLOTLYENV=window.PLOTLYENV || {};\n",
       "                    \n",
       "                if (document.getElementById(\"b0a23a29-bbad-4134-a198-b0a509780426\")) {\n",
       "                    Plotly.newPlot(\n",
       "                        'b0a23a29-bbad-4134-a198-b0a509780426',\n",
       "                        [{\"colorscale\": [[0.0, \"Red\"], [0.3333333333333333, \"Blue\"], [0.6666666666666666, \"Green\"], [1.0, \"Yellow\"]], \"locationmode\": \"USA-states\", \"locations\": [\"WA\", \"OR\", \"CA\", \"ID\", \"NV\", \"AZ\", \"UT\", \"MT\", \"WY\", \"CO\", \"NM\", \"ND\", \"SD\", \"NE\", \"KS\", \"OK\", \"TX\", \"MN\", \"IA\", \"MO\", \"AR\", \"LA\", \"WI\", \"IL\", \"MS\", \"MI\", \"IN\", \"KY\", \"TN\", \"AL\", \"OH\", \"WV\", \"VA\", \"NC\", \"SC\", \"GA\", \"FL\", \"PA\", \"MD\", \"DE\", \"NJ\", \"NY\", \"CT\", \"HI\", \"MA\", \"RI\", \"VT\", \"NH\", \"ME\", \"AK\"], \"type\": \"choropleth\", \"z\": [4, 3, 1, 2, 4, 2, 1, 1, 3, 3, 4, 2, 4, 1, 4, 1, 2, 1, 3, 2, 4, 1, 2, 1, 2, 1, 4, 1, 1, 4, 2, 4, 2, 4, 1, 2, 3, 1, 3, 2, 3, 2, 1, 1, 4, 4, 1, 2, 1, 1]}],\n",
       "                        {\"geo\": {\"scope\": \"usa\"}, \"template\": {\"data\": {\"bar\": [{\"error_x\": {\"color\": \"#2a3f5f\"}, \"error_y\": {\"color\": \"#2a3f5f\"}, \"marker\": {\"line\": {\"color\": \"#E5ECF6\", \"width\": 0.5}}, \"type\": \"bar\"}], \"barpolar\": [{\"marker\": {\"line\": {\"color\": \"#E5ECF6\", \"width\": 0.5}}, \"type\": \"barpolar\"}], \"carpet\": [{\"aaxis\": {\"endlinecolor\": \"#2a3f5f\", \"gridcolor\": \"white\", \"linecolor\": \"white\", \"minorgridcolor\": \"white\", \"startlinecolor\": \"#2a3f5f\"}, \"baxis\": {\"endlinecolor\": \"#2a3f5f\", \"gridcolor\": \"white\", \"linecolor\": \"white\", \"minorgridcolor\": \"white\", \"startlinecolor\": \"#2a3f5f\"}, \"type\": \"carpet\"}], \"choropleth\": [{\"colorbar\": {\"outlinewidth\": 0, \"ticks\": \"\"}, \"type\": \"choropleth\"}], \"contour\": [{\"colorbar\": {\"outlinewidth\": 0, \"ticks\": \"\"}, \"colorscale\": [[0.0, \"#0d0887\"], [0.1111111111111111, \"#46039f\"], [0.2222222222222222, \"#7201a8\"], [0.3333333333333333, \"#9c179e\"], [0.4444444444444444, \"#bd3786\"], [0.5555555555555556, \"#d8576b\"], [0.6666666666666666, \"#ed7953\"], [0.7777777777777778, \"#fb9f3a\"], [0.8888888888888888, \"#fdca26\"], [1.0, \"#f0f921\"]], \"type\": \"contour\"}], \"contourcarpet\": [{\"colorbar\": {\"outlinewidth\": 0, \"ticks\": \"\"}, \"type\": \"contourcarpet\"}], \"heatmap\": [{\"colorbar\": {\"outlinewidth\": 0, \"ticks\": \"\"}, \"colorscale\": [[0.0, \"#0d0887\"], [0.1111111111111111, \"#46039f\"], [0.2222222222222222, \"#7201a8\"], [0.3333333333333333, \"#9c179e\"], [0.4444444444444444, \"#bd3786\"], [0.5555555555555556, \"#d8576b\"], [0.6666666666666666, \"#ed7953\"], [0.7777777777777778, \"#fb9f3a\"], [0.8888888888888888, \"#fdca26\"], [1.0, \"#f0f921\"]], \"type\": \"heatmap\"}], \"heatmapgl\": [{\"colorbar\": {\"outlinewidth\": 0, \"ticks\": \"\"}, \"colorscale\": [[0.0, \"#0d0887\"], [0.1111111111111111, \"#46039f\"], [0.2222222222222222, \"#7201a8\"], [0.3333333333333333, \"#9c179e\"], [0.4444444444444444, \"#bd3786\"], [0.5555555555555556, \"#d8576b\"], [0.6666666666666666, \"#ed7953\"], [0.7777777777777778, \"#fb9f3a\"], [0.8888888888888888, \"#fdca26\"], [1.0, \"#f0f921\"]], \"type\": \"heatmapgl\"}], \"histogram\": [{\"marker\": {\"colorbar\": {\"outlinewidth\": 0, \"ticks\": \"\"}}, \"type\": \"histogram\"}], \"histogram2d\": [{\"colorbar\": {\"outlinewidth\": 0, \"ticks\": \"\"}, \"colorscale\": [[0.0, \"#0d0887\"], [0.1111111111111111, \"#46039f\"], [0.2222222222222222, \"#7201a8\"], [0.3333333333333333, \"#9c179e\"], [0.4444444444444444, \"#bd3786\"], [0.5555555555555556, \"#d8576b\"], [0.6666666666666666, \"#ed7953\"], [0.7777777777777778, \"#fb9f3a\"], [0.8888888888888888, \"#fdca26\"], [1.0, \"#f0f921\"]], \"type\": \"histogram2d\"}], \"histogram2dcontour\": [{\"colorbar\": {\"outlinewidth\": 0, \"ticks\": \"\"}, \"colorscale\": [[0.0, \"#0d0887\"], [0.1111111111111111, \"#46039f\"], [0.2222222222222222, \"#7201a8\"], [0.3333333333333333, \"#9c179e\"], [0.4444444444444444, \"#bd3786\"], [0.5555555555555556, \"#d8576b\"], [0.6666666666666666, \"#ed7953\"], [0.7777777777777778, \"#fb9f3a\"], [0.8888888888888888, \"#fdca26\"], [1.0, \"#f0f921\"]], \"type\": \"histogram2dcontour\"}], \"mesh3d\": [{\"colorbar\": {\"outlinewidth\": 0, \"ticks\": \"\"}, \"type\": \"mesh3d\"}], \"parcoords\": [{\"line\": {\"colorbar\": {\"outlinewidth\": 0, \"ticks\": \"\"}}, \"type\": \"parcoords\"}], \"pie\": [{\"automargin\": true, \"type\": \"pie\"}], \"scatter\": [{\"marker\": {\"colorbar\": {\"outlinewidth\": 0, \"ticks\": \"\"}}, \"type\": \"scatter\"}], \"scatter3d\": [{\"line\": {\"colorbar\": {\"outlinewidth\": 0, \"ticks\": \"\"}}, \"marker\": {\"colorbar\": {\"outlinewidth\": 0, \"ticks\": \"\"}}, \"type\": \"scatter3d\"}], \"scattercarpet\": [{\"marker\": {\"colorbar\": {\"outlinewidth\": 0, \"ticks\": \"\"}}, \"type\": \"scattercarpet\"}], \"scattergeo\": [{\"marker\": {\"colorbar\": {\"outlinewidth\": 0, \"ticks\": \"\"}}, \"type\": \"scattergeo\"}], \"scattergl\": [{\"marker\": {\"colorbar\": {\"outlinewidth\": 0, \"ticks\": \"\"}}, \"type\": \"scattergl\"}], \"scattermapbox\": [{\"marker\": {\"colorbar\": {\"outlinewidth\": 0, \"ticks\": \"\"}}, \"type\": \"scattermapbox\"}], \"scatterpolar\": [{\"marker\": {\"colorbar\": {\"outlinewidth\": 0, \"ticks\": \"\"}}, \"type\": \"scatterpolar\"}], \"scatterpolargl\": [{\"marker\": {\"colorbar\": {\"outlinewidth\": 0, \"ticks\": \"\"}}, \"type\": \"scatterpolargl\"}], \"scatterternary\": [{\"marker\": {\"colorbar\": {\"outlinewidth\": 0, \"ticks\": \"\"}}, \"type\": \"scatterternary\"}], \"surface\": [{\"colorbar\": {\"outlinewidth\": 0, \"ticks\": \"\"}, \"colorscale\": [[0.0, \"#0d0887\"], [0.1111111111111111, \"#46039f\"], [0.2222222222222222, \"#7201a8\"], [0.3333333333333333, \"#9c179e\"], [0.4444444444444444, \"#bd3786\"], [0.5555555555555556, \"#d8576b\"], [0.6666666666666666, \"#ed7953\"], [0.7777777777777778, \"#fb9f3a\"], [0.8888888888888888, \"#fdca26\"], [1.0, \"#f0f921\"]], \"type\": \"surface\"}], \"table\": [{\"cells\": {\"fill\": {\"color\": \"#EBF0F8\"}, \"line\": {\"color\": \"white\"}}, \"header\": {\"fill\": {\"color\": \"#C8D4E3\"}, \"line\": {\"color\": \"white\"}}, \"type\": \"table\"}]}, \"layout\": {\"annotationdefaults\": {\"arrowcolor\": \"#2a3f5f\", \"arrowhead\": 0, \"arrowwidth\": 1}, \"coloraxis\": {\"colorbar\": {\"outlinewidth\": 0, \"ticks\": \"\"}}, \"colorscale\": {\"diverging\": [[0, \"#8e0152\"], [0.1, \"#c51b7d\"], [0.2, \"#de77ae\"], [0.3, \"#f1b6da\"], [0.4, \"#fde0ef\"], [0.5, \"#f7f7f7\"], [0.6, \"#e6f5d0\"], [0.7, \"#b8e186\"], [0.8, \"#7fbc41\"], [0.9, \"#4d9221\"], [1, \"#276419\"]], \"sequential\": [[0.0, \"#0d0887\"], [0.1111111111111111, \"#46039f\"], [0.2222222222222222, \"#7201a8\"], [0.3333333333333333, \"#9c179e\"], [0.4444444444444444, \"#bd3786\"], [0.5555555555555556, \"#d8576b\"], [0.6666666666666666, \"#ed7953\"], [0.7777777777777778, \"#fb9f3a\"], [0.8888888888888888, \"#fdca26\"], [1.0, \"#f0f921\"]], \"sequentialminus\": [[0.0, \"#0d0887\"], [0.1111111111111111, \"#46039f\"], [0.2222222222222222, \"#7201a8\"], [0.3333333333333333, \"#9c179e\"], [0.4444444444444444, \"#bd3786\"], [0.5555555555555556, \"#d8576b\"], [0.6666666666666666, \"#ed7953\"], [0.7777777777777778, \"#fb9f3a\"], [0.8888888888888888, \"#fdca26\"], [1.0, \"#f0f921\"]]}, \"colorway\": [\"#636efa\", \"#EF553B\", \"#00cc96\", \"#ab63fa\", \"#FFA15A\", \"#19d3f3\", \"#FF6692\", \"#B6E880\", \"#FF97FF\", \"#FECB52\"], \"font\": {\"color\": \"#2a3f5f\"}, \"geo\": {\"bgcolor\": \"white\", \"lakecolor\": \"white\", \"landcolor\": \"#E5ECF6\", \"showlakes\": true, \"showland\": true, \"subunitcolor\": \"white\"}, \"hoverlabel\": {\"align\": \"left\"}, \"hovermode\": \"closest\", \"mapbox\": {\"style\": \"light\"}, \"paper_bgcolor\": \"white\", \"plot_bgcolor\": \"#E5ECF6\", \"polar\": {\"angularaxis\": {\"gridcolor\": \"white\", \"linecolor\": \"white\", \"ticks\": \"\"}, \"bgcolor\": \"#E5ECF6\", \"radialaxis\": {\"gridcolor\": \"white\", \"linecolor\": \"white\", \"ticks\": \"\"}}, \"scene\": {\"xaxis\": {\"backgroundcolor\": \"#E5ECF6\", \"gridcolor\": \"white\", \"gridwidth\": 2, \"linecolor\": \"white\", \"showbackground\": true, \"ticks\": \"\", \"zerolinecolor\": \"white\"}, \"yaxis\": {\"backgroundcolor\": \"#E5ECF6\", \"gridcolor\": \"white\", \"gridwidth\": 2, \"linecolor\": \"white\", \"showbackground\": true, \"ticks\": \"\", \"zerolinecolor\": \"white\"}, \"zaxis\": {\"backgroundcolor\": \"#E5ECF6\", \"gridcolor\": \"white\", \"gridwidth\": 2, \"linecolor\": \"white\", \"showbackground\": true, \"ticks\": \"\", \"zerolinecolor\": \"white\"}}, \"shapedefaults\": {\"line\": {\"color\": \"#2a3f5f\"}}, \"ternary\": {\"aaxis\": {\"gridcolor\": \"white\", \"linecolor\": \"white\", \"ticks\": \"\"}, \"baxis\": {\"gridcolor\": \"white\", \"linecolor\": \"white\", \"ticks\": \"\"}, \"bgcolor\": \"#E5ECF6\", \"caxis\": {\"gridcolor\": \"white\", \"linecolor\": \"white\", \"ticks\": \"\"}}, \"title\": {\"x\": 0.05}, \"xaxis\": {\"automargin\": true, \"gridcolor\": \"white\", \"linecolor\": \"white\", \"ticks\": \"\", \"title\": {\"standoff\": 15}, \"zerolinecolor\": \"white\", \"zerolinewidth\": 2}, \"yaxis\": {\"automargin\": true, \"gridcolor\": \"white\", \"linecolor\": \"white\", \"ticks\": \"\", \"title\": {\"standoff\": 15}, \"zerolinecolor\": \"white\", \"zerolinewidth\": 2}}}, \"title\": {\"text\": \"Coloured Map\"}},\n",
       "                        {\"responsive\": true}\n",
       "                    ).then(function(){\n",
       "                            \n",
       "var gd = document.getElementById('b0a23a29-bbad-4134-a198-b0a509780426');\n",
       "var x = new MutationObserver(function (mutations, observer) {{\n",
       "        var display = window.getComputedStyle(gd).display;\n",
       "        if (!display || display === 'none') {{\n",
       "            console.log([gd, 'removed!']);\n",
       "            Plotly.purge(gd);\n",
       "            observer.disconnect();\n",
       "        }}\n",
       "}});\n",
       "\n",
       "// Listen for the removal of the full notebook cells\n",
       "var notebookContainer = gd.closest('#notebook-container');\n",
       "if (notebookContainer) {{\n",
       "    x.observe(notebookContainer, {childList: true});\n",
       "}}\n",
       "\n",
       "// Listen for the clearing of the current output cell\n",
       "var outputEl = gd.closest('.output');\n",
       "if (outputEl) {{\n",
       "    x.observe(outputEl, {childList: true});\n",
       "}}\n",
       "\n",
       "                        })\n",
       "                };\n",
       "                });\n",
       "            </script>\n",
       "        </div>"
      ]
     },
     "metadata": {},
     "output_type": "display_data"
    }
   ],
   "source": [
    "#installation commands for visualization\n",
    "# for pip\n",
    "# pip install cufflinks\n",
    "# pip install plotly\n",
    "\n",
    "# or pip install cufflinks plotly\n",
    "\n",
    "# for conda-\n",
    "# conda install plotly\n",
    "# conda install -c conda-forge cufflinks-py\n",
    "import time\n",
    "import random\n",
    "import csv\n",
    "import plotly.graph_objects as go\n",
    "import pandas as pd\n",
    "\n",
    "#Australia Map    \n",
    "aus_state_mapping={0:'Western Australia',1:'Northern Territory',2:'South Australia',3:'Queensland',4:'New South Wales',\n",
    "               5:'Victoria',6:'Tasmania'}\n",
    "\n",
    "aus_edges={\n",
    "    0:[1,2],\n",
    "    1:[0,2,3],\n",
    "    2:[0,1,3,4,5],\n",
    "    3:[1,2,4],\n",
    "    4:[2,3,5],\n",
    "    5:[2,4],\n",
    "    6:[]\n",
    "}\n",
    "#USA Map\n",
    "us_state_mapping={0:'Washington',1:'Oregon',2:'California',3:'Idaho',4:'Nevada',5:'Arizona',6:'Utah',7:'Montana',\n",
    "              8:'Wyoming',9:'Colorado',10:'New Mexico',11:'North Dakota',12:'South Dakota',13:'Nebraska',14:'Kansas',\n",
    "              15:'Oklahoma',16:'Texas',17:'Minessota',18:'Iowa',19:'Missouri',20:'Arkansas',21:'Lousiana',22:'Wisconsin',\n",
    "              23:'Illinois',24:'Mississippi',25:'Michigan',26:'Indiana',27:'Kentucky',28:'Tennessee',29:'Alabama',30:'Ohio',\n",
    "              31:'West Virginia',32:'Virgnia',33:'North Carolina',34:'South Carolina',35:'Georgia',36:'Florida',\n",
    "              37:'Pennsylvania',38:'Maryland',39:'Delaware',40:'New Jersey',41:'New York',42:'Connecticut',43:'Hawaii',44:'Massachusetts',\n",
    "              45:'Rhode Island',46:'Vermont',47:'New Hamsphire',48:'Maine',49:'Alaska'}\n",
    "\n",
    "us_edges ={\n",
    "    0:[3,1],\n",
    "    1:[0,3,4,2],\n",
    "    2:[1,4,5],\n",
    "    3:[0,1,4,6,8,7],\n",
    "    4:[1,2,5,6,3],\n",
    "    5:[2,4,6,9,10],\n",
    "    6:[3,4,5,10,9,8],\n",
    "    7:[3,8,12,11],\n",
    "    8:[7,3,6,9,13,12],\n",
    "    9:[8,6,5,10,15,14,13],\n",
    "    10:[5,6,9,15,16],\n",
    "    11:[7,12,17],\n",
    "    12:[11,7,8,13,18,17],\n",
    "    13:[18,12,8,9,14,19],\n",
    "    14:[13,9,15,19],\n",
    "    15:[16,20,19,14,9,10],\n",
    "    16:[10,15,20,21],\n",
    "    17:[11,12,18,22],\n",
    "    18:[17,12,13,19,23,22],\n",
    "    19:[18,13,14,15,20,27,28,23],\n",
    "    20:[19,15,16,21,24,28],\n",
    "    21:[16,20,24],\n",
    "    22:[17,18,23,25],\n",
    "    23:[22,18,19,27,26],\n",
    "    24:[29,21,28,20],\n",
    "    25:[22,26,30],\n",
    "    26:[25,23,27,30],\n",
    "    27:[26,23,19,28,32,31,30],\n",
    "    28:[27,19,20,24,29,35,33,32],\n",
    "    29:[28,24,36,35],\n",
    "    30:[25,26,27,31,37],\n",
    "    31:[30,27,32,37,38],\n",
    "    32:[38,31,27,28,33],\n",
    "    33:[32,28,35,34],\n",
    "    34:[33,35],\n",
    "    35:[29,28,33,34,36],\n",
    "    36:[29,35],\n",
    "    37:[30,31,41,40,38,39],\n",
    "    38:[31,32,39,37],\n",
    "    39:[40,38,37],\n",
    "    40:[39,37,41],\n",
    "    41:[37,40,42,44,45,46],\n",
    "    42:[40,41,44,45],\n",
    "    43:[],\n",
    "    44:[42,47,41,45,46],\n",
    "    45:[44,42],\n",
    "    46:[41,44,47],\n",
    "    47:[46,44,48],\n",
    "    48:[47],\n",
    "    49:[]   \n",
    "}\n",
    "\n",
    "color_list = {1:'Red',2:'Blue',3:'Green',4:'Yellow',5:'Cyan',6:'Magenta',6:'Black',7:'White'}\n",
    "\n",
    "class Map:\n",
    "    def __init__(self, tot_states,state_neighbors):\n",
    "        self.tot_states = tot_states\n",
    "        self.state_neighbors = state_neighbors\n",
    "        self.chromatic_num = 0\n",
    "        self.color = [0] * self.tot_states #1 color for each state\n",
    "        self.backtrack_count = 0\n",
    "        \n",
    "    def assignDomain(self,num):\n",
    "        domain_dict = {}\n",
    "        for i in range(self.tot_states):\n",
    "            domain_dict[i]={}\n",
    "            for n in range(1,num+1):                \n",
    "                domain_dict[i][n] = 2\n",
    "        return domain_dict\n",
    "\n",
    "    def assignTrack(self,num):\n",
    "        track = {}\n",
    "        for i in range(self.tot_states):\n",
    "            track[i]={}\n",
    "            for n in range(1,num+1):                \n",
    "                track[i][n] = -1                  \n",
    "        return track\n",
    "   \n",
    "    def assignColor(self,num,domain_dict):\n",
    "        visited = []\n",
    "        backtracks = 0\n",
    "        for state in self.state_neighbors:\n",
    "            if state not in visited:\n",
    "                for color in domain_dict[state]:\n",
    "                    if self.checkConstraint(state, color) == False:\n",
    "                        self.color[state] = color\n",
    "                        visited.append(state)\n",
    "                        break                  \n",
    "                for neighbor in self.state_neighbors[state]:\n",
    "                    if neighbor not in visited:\n",
    "                        for color in domain_dict[neighbor]:\n",
    "                            if self.checkConstraint(neighbor, color) == False: \n",
    "                                self.color[neighbor] = color\n",
    "                                visited.append(neighbor)\n",
    "                                break\n",
    "                            else:\n",
    "                                backtracks+=1\n",
    "        return  max(self.color)        \n",
    "\n",
    "    def checkConstraint(self, state, color): \n",
    "        for j in self.state_neighbors[state]:\n",
    "            if self.color[j] == color: \n",
    "                return True\n",
    "        return False      \n",
    "\n",
    "    def colorMap(self, max_num): \n",
    "        domain_dict = self.assignDomain(max_num)\n",
    "        min_chrom = self.assignColor(max_num,domain_dict)\n",
    "        return min_chrom\n",
    "    \n",
    "    def DFS_backtrack(self,chrom_num,random_list):\n",
    "        domain_dict = self.assignDomain(chrom_num)\n",
    "        global status \n",
    "        global parent\n",
    "        status={}\n",
    "        parent={}\n",
    "        self.backtrack_count=0\n",
    "        for state in self.state_neighbors:\n",
    "            status[state] = 10\n",
    "            parent[state] = -1\n",
    "\n",
    "        for rnd in random_list:\n",
    "            state = rnd\n",
    "            if status[state] == 10:\n",
    "                bTrack = self.DFSvisit_backtrack(state,domain_dict)\n",
    "                if bTrack == -1:\n",
    "                    break\n",
    "        return bTrack      \n",
    "                \n",
    "    def DFSvisit_backtrack(self,state,domain_dict):\n",
    "        global status\n",
    "        global parent\n",
    "        assigned = 0\n",
    "        status[state] = 20\n",
    "        for c in domain_dict[state]:\n",
    "            if self.checkConstraint(state, c) == False:\n",
    "                if assigned == 0:\n",
    "                    self.color[state] = c\n",
    "                    domain_dict[state][c] = 1\n",
    "                    assigned = 1\n",
    "            else:\n",
    "                if assigned == 0:\n",
    "                    self.backtrack_count+=1\n",
    "                domain_dict[state][c] = 0\n",
    "        if assigned == 0:\n",
    "            return -1\n",
    "                \n",
    "        for neighbor in self.state_neighbors[state]:\n",
    "            if status[neighbor] == 10:\n",
    "                parent[neighbor] = state\n",
    "                bTrack = self.DFSvisit_backtrack(neighbor,domain_dict)\n",
    "                if bTrack == -1:\n",
    "                    return bTrack\n",
    "        status[state] = 30\n",
    "        return self.backtrack_count\n",
    "                          \n",
    "    def DFS_forwardCheck(self,chrom_num,random_list):\n",
    "        global status \n",
    "        global parent\n",
    "        domain_dict = self.assignDomain(chrom_num)\n",
    "        track = self.assignTrack(chrom_num)\n",
    "        status={}\n",
    "        parent={}\n",
    "        self.backtrack_count=0\n",
    "        for state in self.state_neighbors:\n",
    "            status[state] = 10\n",
    "            parent[state] = -1\n",
    "\n",
    "        for rnd in random_list:\n",
    "            state = rnd\n",
    "            if status[state] == 10:\n",
    "                bTrack = self.DFSvisit_forward(state,domain_dict,track)\n",
    "        return bTrack   \n",
    "    \n",
    "    def DFSvisit_forward(self,state,domain_dict,track):\n",
    "        global status\n",
    "        global parent\n",
    "        assigned = 0\n",
    "        prev_c = -1\n",
    "        color={}\n",
    "        status[state] = 20\n",
    "        for c in domain_dict[state]:\n",
    "            if domain_dict[state][c] == 2:\n",
    "                if assigned == 0:\n",
    "                    self.color[state] = c\n",
    "                    domain_dict[state][c] = 1\n",
    "                    assigned = 1 \n",
    "                    self.reduceDomain(state,c,domain_dict,track)\n",
    "                    \n",
    "            elif domain_dict[state][c] == 1:\n",
    "                prev_c = c\n",
    "                    \n",
    "        if assigned == 1 and prev_c != -1:\n",
    "            self.undo(state,prev_c,domain_dict,track)\n",
    "            color[prev_c] = 2 \n",
    "\n",
    "        if assigned == 0:\n",
    "            self.backtrack_count+=1\n",
    "            if parent[state] != -1:\n",
    "                self.DFSvisit_forward(parent[state],domain_dict,track)\n",
    "                            \n",
    "        for neighbor in self.state_neighbors[state]:\n",
    "            if status[neighbor] == 10:\n",
    "                parent[neighbor] = state\n",
    "                self.DFSvisit_forward(neighbor,domain_dict,track)\n",
    "        status[state] = 30\n",
    "        return self.backtrack_count\n",
    "    \n",
    "    def reduceDomain(self,state,c,domain_dict,track):\n",
    "        for neighbor in self.state_neighbors[state]:\n",
    "            domain_dict[neighbor][c] = 0\n",
    "            if track[neighbor][c] == -1:\n",
    "                track[neighbor][c] = state\n",
    "    \n",
    "    def undo(self,state,c,domain_dict,track):\n",
    "        for neighbor in self.state_neighbors[state]:\n",
    "            if track[neighbor][c] == state and domain_dict[neighbor][c] == 0:\n",
    "                domain_dict[neighbor][c] = 2\n",
    "\n",
    "    def DFS_forwardSingleton(self,chrom_num,random_list): \n",
    "        global status \n",
    "        global parent\n",
    "        domain_dict = self.assignDomain(chrom_num)\n",
    "        track = self.assignTrack(chrom_num)\n",
    "        status={}\n",
    "        parent={}\n",
    "        self.backtrack_count=0\n",
    "        for state in self.state_neighbors:\n",
    "            status[state] = 10\n",
    "            parent[state] = -1\n",
    "            \n",
    "        for rnd in random_list:\n",
    "            state = rnd\n",
    "            if status[state] == 10:\n",
    "                bTrack = self.DFSvisit_Singleton(state,domain_dict,track)\n",
    "        return bTrack \n",
    "    \n",
    "    def DFSvisit_Singleton(self,state,domain_dict,track):\n",
    "        global status\n",
    "        global parent\n",
    "        assigned = 0\n",
    "        prev_c = -1\n",
    "        color={}\n",
    "        status[state] = 20\n",
    "        for c in domain_dict[state]:\n",
    "            if domain_dict[state][c] == 2:\n",
    "                if assigned == 0:\n",
    "                    self.color[state] = c\n",
    "                    domain_dict[state][c] = 1\n",
    "                    assigned = 1 \n",
    "                    self.reduceDomainSingleton(state,c,domain_dict,track)\n",
    "            elif domain_dict[state][c] == 1:\n",
    "                prev_c = c\n",
    "                    \n",
    "        if assigned == 1 and prev_c != -1:\n",
    "            self.undoSingleton(state,prev_c,domain_dict,track)\n",
    "            color[prev_c] = 2 \n",
    "\n",
    "        if assigned == 0:\n",
    "            self.backtrack_count+=1\n",
    "            if parent[state] != -1:\n",
    "                self.DFSvisit_Singleton(parent[state],domain_dict,track)\n",
    "                            \n",
    "        for neighbor in self.state_neighbors[state]:\n",
    "            if status[neighbor] == 10:\n",
    "                parent[neighbor] = state\n",
    "                self.DFSvisit_Singleton(neighbor,domain_dict,track)\n",
    "        status[state] = 30\n",
    "        return self.backtrack_count\n",
    "    \n",
    "    def reduceDomainSingleton(self,state,c,domain_dict,track):\n",
    "        for neighbor in self.state_neighbors[state]:\n",
    "            check = domain_dict[neighbor][c] \n",
    "            domain_dict[neighbor][c] = 0\n",
    "            if check == 2:\n",
    "                colorS=self.checkSingleton(neighbor, domain_dict)\n",
    "                if colorS>0:\n",
    "                    self.reduceDomainSingleton(neighbor,colorS,domain_dict,track)\n",
    "            if track[neighbor][c] == -1:\n",
    "                track[neighbor][c] = state\n",
    "                \n",
    "    def checkSingleton(self,neighbor, domain_dict):\n",
    "        color_dict = domain_dict[neighbor]\n",
    "        count=0\n",
    "        temp_c = 0\n",
    "        for key in color_dict:\n",
    "            if color_dict[key]==2:\n",
    "                count+=1\n",
    "                temp_c = key         \n",
    "        if count != 1:  \n",
    "            temp_c=0\n",
    "            \n",
    "        return temp_c\n",
    "        \n",
    "    def undoSingleton(self,state,c,domain_dict,track):\n",
    "        for neighbor in self.state_neighbors[state]:\n",
    "            if track[neighbor][c] == state and domain_dict[neighbor][c] == 0:\n",
    "                domain_dict[neighbor][c] = 2                \n",
    "\n",
    "#MAIN\n",
    "def main():\n",
    "    map_choice=input('Select map to be colored : \\n1.Australia\\n2.US\\n')\n",
    "    print()\n",
    "    if map_choice == '1':\n",
    "        state_mapping=aus_state_mapping\n",
    "        edges = aus_edges\n",
    "        m = Map(len(edges),edges)\n",
    "        min_possible=m.colorMap(5) \n",
    "        m.chromatic_num=min_possible\n",
    "        print(\"Minimum chromatic number possible for Australia map = \", m.chromatic_num)\n",
    "        print()\n",
    "        \n",
    "    elif map_choice == '2':\n",
    "        state_mapping=us_state_mapping\n",
    "        edges = us_edges\n",
    "        m = Map(len(edges),edges)\n",
    "        min_possible=m.colorMap(5) \n",
    "        m.chromatic_num=min_possible\n",
    "        print(\"Minimum chromatic number possible for US map = \", m.chromatic_num)\n",
    "        print()\n",
    "\n",
    "#Generate a random list of states\n",
    "    random_list=[]\n",
    "    states=[]\n",
    "    states_colored = []\n",
    "    for i in range(m.tot_states):\n",
    "        random_list.append(i)\n",
    "    random.shuffle(random_list)\n",
    "    for s in random_list:\n",
    "        states.append(state_mapping[s])\n",
    "    print(\"Search starts from state: \",states[0])\n",
    "    print()\n",
    "    \n",
    "#Print the Results\n",
    "    print(\"1.DFS Only:\")\n",
    "    print()\n",
    "    start = time.process_time()\n",
    "    m.backtracks=0\n",
    "    m.backtracks = m.DFS_backtrack(m.chromatic_num,random_list)\n",
    "    end = time.process_time()\n",
    "    assigned = []\n",
    "    print(\"Number of backtracks = \", m.backtracks)\n",
    "    for colors in m.color:\n",
    "        assigned.append(color_list[colors])\n",
    "    print(\"Colors assigned for states in original order = \", assigned)\n",
    "    print(\"Time taken\", (end-start), 's')\n",
    "    print()\n",
    "    map_color=m.color\n",
    "\n",
    "    print(\"2.DFS with Forward Check:\")\n",
    "    print()\n",
    "    start = time.process_time()\n",
    "    m.backtracks=0\n",
    "    m.backtracks = m.DFS_forwardCheck(m.chromatic_num,random_list)\n",
    "    end = time.process_time()\n",
    "    assigned = []\n",
    "    print(\"Number of backtracks = \", m.backtracks)\n",
    "    for colors in m.color:\n",
    "        assigned.append(color_list[colors])\n",
    "    print(\"Colors assigned for states in original order = \", assigned)\n",
    "    print(\"Time taken\", (end-start), 's')\n",
    "    print()\n",
    "        \n",
    "    print(\"3.DFS with Forward Check and propagation through Singleton domains:\")\n",
    "    print()\n",
    "    start = time.process_time()\n",
    "    m.backtracks=0\n",
    "    m.backtracks = m.DFS_forwardSingleton(m.chromatic_num,random_list)\n",
    "    end = time.process_time()\n",
    "    assigned = []\n",
    "    print(\"Number of backtracks = \", m.backtracks)\n",
    "    for colors in m.color:\n",
    "        assigned.append(color_list[colors])\n",
    "    print(\"Colors assigned for states in original order = \", assigned)\n",
    "    print(\"Time taken\", (end-start), 's')\n",
    "    print()\n",
    "        #VISUALIZATION FOR USA MAP\n",
    "    states=[\"WA\",\"OR\",\"CA\",\"ID\",\"NV\",\"AZ\",\"UT\",\"MT\",\"WY\",\"CO\",\"NM\",\"ND\",\"SD\",\"NE\",\"KS\",\"OK\",\"TX\",\"MN\",\"IA\",\"MO\",\"AR\",\n",
    "       \"LA\",\"WI\",\"IL\",\"MS\",\"MI\",\"IN\",\"KY\",\"TN\",\"AL\",\"OH\",\"WV\",\"VA\",\"NC\",\"SC\",\"GA\",\"FL\",\"PA\",\"MD\",\"DE\",\"NJ\",\"NY\",\"CT\",\n",
    "       \"HI\",\"MA\",\"RI\",\"VT\",\"NH\",\"ME\",\"AK\"]\n",
    "    if map_choice=='2':\n",
    "        row_list=[]\n",
    "        row_list.append([\"code\", \"color\"])\n",
    "        for x,y in zip(states,map_color):\n",
    "            row_list.append([x,y])\n",
    "        with open('map_color.csv', 'w', newline='') as file:\n",
    "            writer = csv.writer(file)\n",
    "            writer.writerows(row_list)\n",
    "\n",
    "        df = pd.read_csv('map_color.csv')\n",
    "        fig = go.Figure(data=go.Choropleth(\n",
    "            locations=df['code'], # Spatial coordinates\n",
    "            z = df['color'], # Data to be color-coded\n",
    "            locationmode = 'USA-states', # set of locations match entries in `locations`\n",
    "            colorscale = ['Red','Blue','Green','Yellow']\n",
    "        #     colorbar_title = \"Millions USD\",\n",
    "        ))\n",
    "\n",
    "        fig.update_layout(\n",
    "            title_text = 'Coloured Map',\n",
    "            geo_scope='usa', # limite map scope to USA\n",
    "        )\n",
    "        fig.show()\n",
    "\n",
    "\n",
    "    \n",
    "            \n",
    "main()"
   ]
  },
  {
   "cell_type": "code",
   "execution_count": null,
   "metadata": {},
   "outputs": [],
   "source": []
  }
 ],
 "metadata": {
  "kernelspec": {
   "display_name": "Python 3",
   "language": "python",
   "name": "python3"
  },
  "language_info": {
   "codemirror_mode": {
    "name": "ipython",
    "version": 3
   },
   "file_extension": ".py",
   "mimetype": "text/x-python",
   "name": "python",
   "nbconvert_exporter": "python",
   "pygments_lexer": "ipython3",
   "version": "3.7.3"
  }
 },
 "nbformat": 4,
 "nbformat_minor": 2
}
